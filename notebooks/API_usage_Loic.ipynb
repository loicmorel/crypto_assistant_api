{
 "cells": [
  {
   "cell_type": "markdown",
   "id": "3e6d74ff",
   "metadata": {},
   "source": [
    "# API usage"
   ]
  },
  {
   "cell_type": "code",
   "execution_count": 1,
   "id": "d0a18997",
   "metadata": {},
   "outputs": [
    {
     "name": "stdout",
     "output_type": "stream",
     "text": [
      "/Users/loicmorel/code/projetcs/crypto_assistant\n",
      "crypto_assistant (set by PYENV_VERSION environment variable)\n"
     ]
    }
   ],
   "source": [
    "# run only once.\n",
    "import os\n",
    "os.chdir(\"..\")\n",
    "!pwd\n",
    "!pyenv version\n",
    "%load_ext autoreload\n",
    "%autoreload 2"
   ]
  },
  {
   "cell_type": "code",
   "execution_count": 2,
   "id": "d4260ccc",
   "metadata": {},
   "outputs": [],
   "source": [
    "import pandas as pd\n",
    "import numpy as np\n",
    "import matplotlib.pyplot as plt\n",
    "import seaborn as sns\n",
    "import requests\n",
    "import pprint\n",
    "import seaborn as sns\n",
    "from contextlib import contextmanager\n",
    "from timeit import default_timer as timer\n",
    "from datetime import timedelta"
   ]
  },
  {
   "cell_type": "code",
   "execution_count": 3,
   "id": "6238cf8e",
   "metadata": {},
   "outputs": [],
   "source": [
    "# url = \"http://127.0.0.1:8000\"\n",
    "url = \"https://cryptoassistantimageamd64-c7z3tydiqq-df.a.run.app/\""
   ]
  },
  {
   "cell_type": "markdown",
   "id": "c54c26ee",
   "metadata": {},
   "source": [
    "## API check"
   ]
  },
  {
   "cell_type": "code",
   "execution_count": 4,
   "id": "dd99367c",
   "metadata": {},
   "outputs": [
    {
     "name": "stdout",
     "output_type": "stream",
     "text": [
      "API call success\n"
     ]
    }
   ],
   "source": [
    "params = ''\n",
    "\n",
    "# retrieve the response\n",
    "response = requests.get(\n",
    "    url,\n",
    "    params=params\n",
    ")\n",
    "\n",
    "if response.status_code == 200:\n",
    "    print(\"API call success\")\n",
    "else:\n",
    "    print(\"API call error\")\n"
   ]
  },
  {
   "cell_type": "markdown",
   "id": "7c8956d4",
   "metadata": {},
   "source": [
    "## API greeting"
   ]
  },
  {
   "cell_type": "code",
   "execution_count": 5,
   "id": "2ff63c30",
   "metadata": {},
   "outputs": [
    {
     "name": "stdout",
     "output_type": "stream",
     "text": [
      "API call success\n"
     ]
    },
    {
     "data": {
      "text/plain": [
       "(200, {'greeting': 'Welcome to the crypto world!'})"
      ]
     },
     "execution_count": 5,
     "metadata": {},
     "output_type": "execute_result"
    }
   ],
   "source": [
    "api_url = f'{url}/'\n",
    "\n",
    "# retrieve the response\n",
    "response = requests.get(\n",
    "    api_url,\n",
    "    params=params\n",
    ")\n",
    "\n",
    "if response.status_code == 200:\n",
    "    print(\"API call success\")\n",
    "else:\n",
    "    print(\"API call error\")\n",
    "\n",
    "response.status_code, response.json()"
   ]
  },
  {
   "cell_type": "markdown",
   "id": "14de4df0",
   "metadata": {},
   "source": [
    "## Collect all data"
   ]
  },
  {
   "cell_type": "code",
   "execution_count": 6,
   "id": "373768ad",
   "metadata": {
    "scrolled": true
   },
   "outputs": [
    {
     "name": "stdout",
     "output_type": "stream",
     "text": [
      "API call success\n"
     ]
    },
    {
     "data": {
      "text/plain": [
       "(200,\n",
       " ['data/ohlcv_AAVEUSDT_1d_from_1602720000000_to_1653523200000.csv',\n",
       "  'data/ohlcv_AAVEUSDT_1h_from_1602730800000_to_1653570000000.csv',\n",
       "  'data/ohlcv_ADAUSDT_1d_from_1589155200000_to_1653523200000.csv',\n",
       "  'data/ohlcv_ADAUSDT_1h_from_1589122800000_to_1653570000000.csv',\n",
       "  'data/ohlcv_BTCUSDT_1d_from_1589155200000_to_1653523200000.csv',\n",
       "  'data/ohlcv_BTCUSDT_1h_from_1589122800000_to_1653570000000.csv',\n",
       "  'data/ohlcv_DOTUSDT_1d_from_1597708800000_to_1653523200000.csv',\n",
       "  'data/ohlcv_DOTUSDT_1h_from_1597791600000_to_1653570000000.csv',\n",
       "  'data/ohlcv_ETHUSDT_1d_from_1589155200000_to_1653523200000.csv',\n",
       "  'data/ohlcv_ETHUSDT_1h_from_1589122800000_to_1653570000000.csv',\n",
       "  'data/ohlcv_ETHUSDT_1m_from_1649601240000_to_1652194500000.csv',\n",
       "  'data/ohlcv_FTMUSDT_1d_from_1589155200000_to_1653523200000.csv',\n",
       "  'data/ohlcv_FTMUSDT_1h_from_1589122800000_to_1653570000000.csv',\n",
       "  'data/ohlcv_NEARUSDT_1d_from_1602633600000_to_1653523200000.csv',\n",
       "  'data/ohlcv_NEARUSDT_1h_from_1602651600000_to_1653570000000.csv',\n",
       "  'data/ohlcv_SOLUSDT_1d_from_1597104000000_to_1653523200000.csv',\n",
       "  'data/ohlcv_SOLUSDT_1h_from_1597125600000_to_1653570000000.csv',\n",
       "  'data/ohlcv_VITEUSDT_1d_from_1589155200000_to_1653523200000.csv',\n",
       "  'data/ohlcv_VITEUSDT_1h_from_1589122800000_to_1653570000000.csv',\n",
       "  'models/model_CNN_AAVEUSDT_1h_1602730800000_1652256000000_2022-05-12_00:59:31.h5',\n",
       "  'models/model_CNN_AAVEUSDT_1h_1602730800000_1652281200000_2022-05-12_00:11:23.h5',\n",
       "  'models/model_CNN_ADAUSDT_1h_1589122800000_1652256000000_2022-05-11_19:01:12.h5',\n",
       "  'models/model_CNN_ADAUSDT_1h_1589122800000_1652256000000_2022-05-12_00:50:04.h5',\n",
       "  'models/model_CNN_ADAUSDT_1h_1589122800000_1652281200000_2022-05-12_00:30:42.h5',\n",
       "  'models/model_CNN_BTCUSDT_1h_1589122800000_1652256000000_2022-05-11_17:09:06.h5',\n",
       "  'models/model_CNN_BTCUSDT_1h_1589122800000_1652256000000_2022-05-11_18:54:33.h5',\n",
       "  'models/model_CNN_BTCUSDT_1h_1589122800000_1652256000000_2022-05-12_00:43:36.h5',\n",
       "  'models/model_CNN_BTCUSDT_1h_1589122800000_1652281200000_2022-05-12_00:27:31.h5',\n",
       "  'models/model_CNN_DOTUSDT_1h_1597791600000_1652256000000_2022-05-12_00:56:24.h5',\n",
       "  'models/model_CNN_DOTUSDT_1h_1597791600000_1652281200000_2022-05-11_23:50:43.h5',\n",
       "  'models/model_CNN_DOTUSDT_1h_1597791600000_1652281200000_2022-05-12_00:04:57.h5',\n",
       "  'models/model_CNN_ETHUSDT_1h_1589122800000_1652256000000_2022-05-11_17:05:45.h5',\n",
       "  'models/model_CNN_ETHUSDT_1h_1589122800000_1652256000000_2022-05-11_18:51:01.h5',\n",
       "  'models/model_CNN_ETHUSDT_1h_1589122800000_1652256000000_2022-05-12_00:40:23.h5',\n",
       "  'models/model_CNN_ETHUSDT_1h_1589122800000_1652281200000_2022-05-12_00:20:57.h5',\n",
       "  'models/model_CNN_FTMUSDT_1h_1589122800000_1652256000000_2022-05-11_16:35:24.h5',\n",
       "  'models/model_CNN_FTMUSDT_1h_1589122800000_1652256000000_2022-05-11_16:55:11.h5',\n",
       "  'models/model_CNN_FTMUSDT_1h_1589122800000_1652256000000_2022-05-11_18:40:43.h5',\n",
       "  'models/model_CNN_FTMUSDT_1h_1589122800000_1652256000000_2022-05-12_00:08:12.h5',\n",
       "  'models/model_CNN_FTMUSDT_1h_1589122800000_1652281200000_2022-05-12_00:53:13.h5',\n",
       "  'models/model_CNN_NEARUSDT_1h_1602651600000_1652256000000_2022-05-11_18:57:54.h5',\n",
       "  'models/model_CNN_NEARUSDT_1h_1602651600000_1652256000000_2022-05-12_00:46:52.h5',\n",
       "  'models/model_CNN_NEARUSDT_1h_1602651600000_1652281200000_2022-05-12_00:24:12.h5',\n",
       "  'models/model_CNN_SOLUSDT_1h_1597125600000_1652256000000_2022-05-11_16:38:54.h5',\n",
       "  'models/model_CNN_SOLUSDT_1h_1597125600000_1652256000000_2022-05-11_16:58:42.h5',\n",
       "  'models/model_CNN_SOLUSDT_1h_1597125600000_1652256000000_2022-05-11_18:43:57.h5',\n",
       "  'models/model_CNN_SOLUSDT_1h_1597125600000_1652256000000_2022-05-12_00:17:40.h5',\n",
       "  'models/model_CNN_SOLUSDT_1h_1597125600000_1652281200000_2022-05-12_00:33:56.h5',\n",
       "  'models/model_CNN_VITEUSDT_1h_1589122800000_1652256000000_2022-05-11_16:42:27.h5',\n",
       "  'models/model_CNN_VITEUSDT_1h_1589122800000_1652256000000_2022-05-11_17:02:12.h5',\n",
       "  'models/model_CNN_VITEUSDT_1h_1589122800000_1652256000000_2022-05-11_18:47:27.h5',\n",
       "  'models/model_CNN_VITEUSDT_1h_1589122800000_1652256000000_2022-05-12_00:37:08.h5',\n",
       "  'models/model_CNN_VITEUSDT_1h_1589122800000_1652281200000_2022-05-12_00:14:31.h5',\n",
       "  'models/model_RNN_AAVEUSDT_1h_1602730800000_1651507200000_2022-05-10_17:23:54.h5',\n",
       "  'models/model_RNN_AAVEUSDT_1h_1602730800000_1652101200000_2022-05-10_12:20:26.h5',\n",
       "  'models/model_RNN_AAVEUSDT_1h_1602730800000_1652101200000_2022-05-10_12:31:27.h5',\n",
       "  'models/model_RNN_AAVEUSDT_1h_1602730800000_1652101200000_2022-05-10_12:33:56.h5',\n",
       "  'models/model_RNN_AAVEUSDT_1h_1602730800000_1652101200000_2022-05-10_12:35:37.h5',\n",
       "  'models/model_RNN_BTCUSDT_1h_1502942400000_1651507200000_2022-05-10_17:24:03.h5',\n",
       "  'models/model_RNN_BTCUSDT_1h_1557410400000_1652101200000_2022-05-10_12:21:05.h5',\n",
       "  'models/model_RNN_BTCUSDT_1h_1557410400000_1652101200000_2022-05-10_12:32:08.h5',\n",
       "  'models/model_RNN_BTCUSDT_1h_1557410400000_1652101200000_2022-05-10_12:36:25.h5',\n",
       "  'models/model_RNN_DOTUSDT_1h_1597791600000_1652101200000_2022-05-10_12:20:17.h5',\n",
       "  'models/model_RNN_DOTUSDT_1h_1597791600000_1652101200000_2022-05-10_12:31:16.h5',\n",
       "  'models/model_RNN_DOTUSDT_1h_1597791600000_1652101200000_2022-05-10_12:33:44.h5',\n",
       "  'models/model_RNN_DOTUSDT_1h_1597791600000_1652101200000_2022-05-10_12:35:25.h5',\n",
       "  'models/model_RNN_DOTUSDT_1h_1597791600000_1652245200000_2022-05-11_14:27:40.h5',\n",
       "  'models/model_RNN_ETCUSDT_1h_1649516400000_1652104800000_2022-05-10_12:20:07.h5',\n",
       "  'models/model_RNN_ETCUSDT_1h_1649516400000_1652104800000_2022-05-10_12:31:06.h5',\n",
       "  'models/model_RNN_ETCUSDT_1h_1649516400000_1652104800000_2022-05-10_12:33:32.h5',\n",
       "  'models/model_RNN_ETCUSDT_1h_1649516400000_1652104800000_2022-05-10_12:35:12.h5',\n",
       "  'models/model_RNN_ETHUSDT_1h_1502942400000_1651507200000_2022-05-10_17:23:44.h5',\n",
       "  'models/model_RNN_ETHUSDT_1h_1557410400000_1652101200000_2022-05-10_12:20:46.h5',\n",
       "  'models/model_RNN_ETHUSDT_1h_1557410400000_1652101200000_2022-05-10_12:31:48.h5',\n",
       "  'models/model_RNN_ETHUSDT_1h_1557410400000_1652101200000_2022-05-10_12:34:21.h5',\n",
       "  'models/model_RNN_ETHUSDT_1h_1557410400000_1652101200000_2022-05-10_12:36:01.h5',\n",
       "  'models/model_RNN_FTMUSDT_1h_1560225600000_1652101200000_2022-05-10_12:20:36.h5',\n",
       "  'models/model_RNN_FTMUSDT_1h_1560225600000_1652101200000_2022-05-10_12:31:37.h5',\n",
       "  'models/model_RNN_FTMUSDT_1h_1560225600000_1652101200000_2022-05-10_12:34:08.h5',\n",
       "  'models/model_RNN_FTMUSDT_1h_1560225600000_1652101200000_2022-05-10_12:35:49.h5',\n",
       "  'models/model_RNN_NEARUSDT_1h_1602651600000_1652101200000_2022-05-10_12:19:57.h5',\n",
       "  'models/model_RNN_NEARUSDT_1h_1602651600000_1652101200000_2022-05-10_12:28:35.h5',\n",
       "  'models/model_RNN_NEARUSDT_1h_1602651600000_1652101200000_2022-05-10_12:30:55.h5',\n",
       "  'models/model_RNN_NEARUSDT_1h_1602651600000_1652101200000_2022-05-10_12:33:20.h5',\n",
       "  'models/model_RNN_NEARUSDT_1h_1602651600000_1652101200000_2022-05-10_12:35:00.h5',\n",
       "  'models/model_RNN_SOLUSDT_1h_1597125600000_1652101200000_2022-05-10_12:20:55.h5',\n",
       "  'models/model_RNN_SOLUSDT_1h_1597125600000_1652101200000_2022-05-10_12:31:57.h5',\n",
       "  'models/model_RNN_SOLUSDT_1h_1597125600000_1652101200000_2022-05-10_12:36:13.h5',\n",
       "  'models/model_RNN_VITEUSDT_1h_1576245600000_1652101200000_2022-05-10_12:21:15.h5',\n",
       "  'models/model_RNN_VITEUSDT_1h_1576245600000_1652101200000_2022-05-10_12:32:18.h5',\n",
       "  'models/model_RNN_VITEUSDT_1h_1576245600000_1652101200000_2022-05-10_12:36:38.h5'])"
      ]
     },
     "execution_count": 6,
     "metadata": {},
     "output_type": "execute_result"
    }
   ],
   "source": [
    "api_url = f'{url}/get_all_data'\n",
    "\n",
    "# retrieve the response\n",
    "response = requests.get(\n",
    "    api_url,\n",
    "    params=params\n",
    ")\n",
    "\n",
    "if response.status_code == 200:\n",
    "    print(\"API call success\")\n",
    "else:\n",
    "    print(\"API call error\")\n",
    "\n",
    "response.status_code, response.json()"
   ]
  },
  {
   "cell_type": "markdown",
   "id": "7cc6391b",
   "metadata": {},
   "source": [
    "## Data collection on the exchange (updating)"
   ]
  },
  {
   "cell_type": "code",
   "execution_count": 7,
   "id": "4b63226c",
   "metadata": {
    "scrolled": true
   },
   "outputs": [
    {
     "name": "stdout",
     "output_type": "stream",
     "text": [
      "time of data collection from API: 0:00:13.518066\n",
      "API call success\n"
     ]
    },
    {
     "data": {
      "text/plain": [
       "(200,\n",
       " [['BTCUSDT', '1h'],\n",
       "  ['BTCUSDT', '1d'],\n",
       "  ['ETHUSDT', '1h'],\n",
       "  ['ETHUSDT', '1d'],\n",
       "  ['SOLUSDT', '1h'],\n",
       "  ['SOLUSDT', '1d'],\n",
       "  ['AAVEUSDT', '1h'],\n",
       "  ['AAVEUSDT', '1d'],\n",
       "  ['DOTUSDT', '1h'],\n",
       "  ['DOTUSDT', '1d'],\n",
       "  ['NEARUSDT', '1h'],\n",
       "  ['NEARUSDT', '1d'],\n",
       "  ['FTMUSDT', '1h'],\n",
       "  ['FTMUSDT', '1d'],\n",
       "  ['VITEUSDT', '1h'],\n",
       "  ['VITEUSDT', '1d'],\n",
       "  ['ADAUSDT', '1h'],\n",
       "  ['ADAUSDT', '1d']])"
      ]
     },
     "execution_count": 7,
     "metadata": {},
     "output_type": "execute_result"
    }
   ],
   "source": [
    "api_url = f'{url}/data_collection'\n",
    "\n",
    "start = timer()\n",
    "\n",
    "# retrieve the response\n",
    "response = requests.get(\n",
    "    api_url,\n",
    "    params=params\n",
    ")\n",
    "\n",
    "end = timer()\n",
    "print('time of data collection from API:', timedelta(seconds=end-start))\n",
    "\n",
    "if response.status_code == 200:\n",
    "    print(\"API call success\")\n",
    "else:\n",
    "    print(\"API call error\")\n",
    "\n",
    "response.status_code, response.json()"
   ]
  },
  {
   "cell_type": "markdown",
   "id": "2d8d5540",
   "metadata": {},
   "source": [
    "## Cache predictions"
   ]
  },
  {
   "cell_type": "code",
   "execution_count": 8,
   "id": "fcc9a5d2",
   "metadata": {},
   "outputs": [
    {
     "name": "stdout",
     "output_type": "stream",
     "text": [
      "time of data collection from API: 0:04:30.561607\n",
      "API call success\n"
     ]
    },
    {
     "data": {
      "text/plain": [
       "(200, 'finished caching...')"
      ]
     },
     "execution_count": 8,
     "metadata": {},
     "output_type": "execute_result"
    }
   ],
   "source": [
    "api_url = f'{url}/gen_cache'\n",
    "\n",
    "params = dict(\n",
    "    date_str=\"2022-05-26_00:00:00\"\n",
    ")\n",
    "\n",
    "start = timer()\n",
    "# retrieve the response\n",
    "response = requests.get(\n",
    "    api_url,\n",
    "    params=params\n",
    ")\n",
    "end = timer()\n",
    "print('time of data collection from API:', timedelta(seconds=end-start))\n",
    "\n",
    "\n",
    "if response.status_code == 200:\n",
    "    print(\"API call success\")\n",
    "else:\n",
    "    print(\"API call error\")\n",
    "\n",
    "response.status_code, response.json()"
   ]
  },
  {
   "cell_type": "markdown",
   "id": "39889a72",
   "metadata": {},
   "source": [
    "## Get all available coins"
   ]
  },
  {
   "cell_type": "code",
   "execution_count": 17,
   "id": "7b178aed",
   "metadata": {},
   "outputs": [
    {
     "name": "stdout",
     "output_type": "stream",
     "text": [
      "API call success\n",
      "['AAVE', 'ADA', 'BTC', 'DOT', 'ETH', 'FTM', 'NEAR', 'SOL', 'VITE']\n"
     ]
    }
   ],
   "source": [
    "api_url = f'{url}/get_avalaible_coins'\n",
    "\n",
    "# retrieve the response\n",
    "response = requests.get(\n",
    "    api_url,\n",
    "    params=params\n",
    ")\n",
    "\n",
    "if response.status_code == 200:\n",
    "    print(\"API call success\")\n",
    "else:\n",
    "    print(\"API call error\")\n",
    "\n",
    "response.status_code, response.json()\n",
    "print(response.json().get('avalaible_coins', []))"
   ]
  },
  {
   "cell_type": "markdown",
   "id": "1440ac26",
   "metadata": {},
   "source": [
    "## Train all models"
   ]
  },
  {
   "cell_type": "code",
   "execution_count": 60,
   "id": "8a936da5",
   "metadata": {
    "scrolled": true
   },
   "outputs": [
    {
     "name": "stdout",
     "output_type": "stream",
     "text": [
      "API call success\n"
     ]
    },
    {
     "data": {
      "text/plain": [
       "(200, {'greeting': 'Welcome to the crypto world!'})"
      ]
     },
     "execution_count": 60,
     "metadata": {},
     "output_type": "execute_result"
    }
   ],
   "source": [
    "api_url = f'{url}/train_all_models'\n",
    "\n",
    "# retrieve the response\n",
    "response = requests.get(\n",
    "    #api_url,\n",
    "    #params=params\n",
    ")\n",
    "\n",
    "if response.status_code == 200:\n",
    "    print(\"API call success\")\n",
    "else:\n",
    "    print(\"API call error\")\n",
    "\n",
    "response.status_code, response.json()"
   ]
  },
  {
   "cell_type": "markdown",
   "id": "e5dcb2d5",
   "metadata": {},
   "source": [
    "## Collect portfolio"
   ]
  },
  {
   "cell_type": "code",
   "execution_count": null,
   "id": "c7038b96",
   "metadata": {
    "scrolled": false
   },
   "outputs": [],
   "source": [
    "### BUY AND HOLD STRATEGY\n",
    "\n",
    "###### FROM USER ################\n",
    "\n",
    "# portfolio name\n",
    "name = 'Loic'\n",
    "\n",
    "# define initial assets (USD)\n",
    "ps_init_assets = 1000\n",
    "\n",
    "# define today's date\n",
    "date = \"2022-01-13_00:00:00\"\n",
    "\n",
    "# define allocation dictionary\n",
    "coins_dict = {\n",
    "    'ADA': 0,\n",
    "    'DOT': 100,\n",
    "    'ETH': 0\n",
    "}\n",
    "\n",
    "#################################\n",
    "\n",
    "params = dict(\n",
    "    name=name,\n",
    "    ps_init_assets_str=ps_init_assets,\n",
    "    date_str=date,\n",
    "    coins_alloc_str = json.dumps(coins_dict) \n",
    ")\n",
    "\n",
    "api_url = f'{url}/get_pf'\n",
    "# api_url = f'{url}/get_pf_random'\n",
    "\n",
    "start = timer()\n",
    "\n",
    "# retrieve the response\n",
    "response = requests.get(\n",
    "    api_url,\n",
    "    params=params\n",
    ")\n",
    "\n",
    "end = timer()\n",
    "print('time of data collection from API:', timedelta(seconds=end-start))\n",
    "\n",
    "if response.status_code == 200:\n",
    "    print(\"API call success\")\n",
    "    print(\"portfolio name:\", response.json().get('portfolio_name', 'portfolio not found'))\n",
    "    pf = pd.read_json(response.json().get('portfolio', 'portfolio not found'))\n",
    "else:\n",
    "    print(\"API call error\")\n",
    "\n",
    "# response.status_code, response.json().get('portfolio', 'portfolio not found')\n",
    "\n",
    "# if response.status_code == 200:\n",
    "#     # plot performances \n",
    "#     sns.set_theme(style=\"whitegrid\", palette=\"pastel\")\n",
    "#     ax = sns.barplot(x=\"date\", y=\"t_bh_val\", data=pf)\n",
    "\n",
    "if response.status_code == 200:\n",
    "    pf_status = response.json().get('portfolio_status', 'portfolio status not found')\n",
    "    if pf_status != 'ready':\n",
    "        print(pf_status)\n",
    "    \n",
    "    bh_perf = (pf['t_bh_val'].iloc[-1] - ps_init_assets)/ps_init_assets * 100\n",
    "    ai_perf = (pf['t_ai_val'].iloc[-1] - ps_init_assets)/ps_init_assets * 100\n",
    "    \n",
    "    bh_val = pf['t_bh_val'].iloc[-1] - ps_init_assets\n",
    "    ai_val = pf['t_ai_val'].iloc[-1] - ps_init_assets\n",
    "\n",
    "    print('b&h performance:', round(bh_perf, 2), '%')\n",
    "    print('ai performance:', round(ai_perf, 2), '%')\n",
    "    print('ai(%) profits/loss:', round((ai_perf - bh_perf), 2), '%')\n",
    "    \n",
    "pf"
   ]
  }
 ],
 "metadata": {
  "kernelspec": {
   "display_name": "Python 3 (ipykernel)",
   "language": "python",
   "name": "python3"
  },
  "language_info": {
   "codemirror_mode": {
    "name": "ipython",
    "version": 3
   },
   "file_extension": ".py",
   "mimetype": "text/x-python",
   "name": "python",
   "nbconvert_exporter": "python",
   "pygments_lexer": "ipython3",
   "version": "3.8.12"
  },
  "toc": {
   "base_numbering": 1,
   "nav_menu": {},
   "number_sections": true,
   "sideBar": true,
   "skip_h1_title": false,
   "title_cell": "Table of Contents",
   "title_sidebar": "Contents",
   "toc_cell": false,
   "toc_position": {},
   "toc_section_display": true,
   "toc_window_display": false
  }
 },
 "nbformat": 4,
 "nbformat_minor": 5
}
